{
 "cells": [
  {
   "cell_type": "code",
   "execution_count": 5,
   "metadata": {},
   "outputs": [],
   "source": [
    "from decimal import Decimal"
   ]
  },
  {
   "cell_type": "code",
   "execution_count": 1,
   "metadata": {},
   "outputs": [
    {
     "name": "stdout",
     "output_type": "stream",
     "text": [
      "0 NaN NaN NaN NaN NaN\n",
      "30 19 19.7336 37.0933 71.76 2.69964\n",
      "30 25 19.616 37.5737 97.52 2.69964\n",
      "30 24 1\n"
     ]
    }
   ],
   "source": [
    "data_file = \"labapp3-data-new.txt\"\n",
    "f = open(data_file, \"r\").read()\n",
    "print(f[:100])"
   ]
  },
  {
   "cell_type": "code",
   "execution_count": null,
   "metadata": {},
   "outputs": [],
   "source": [
    "# data attributes\n",
    "#time nodeid temperature humidity light voltage"
   ]
  },
  {
   "cell_type": "code",
   "execution_count": 7,
   "metadata": {},
   "outputs": [
    {
     "data": {
      "text/plain": [
       "[[0.0, nan, nan, nan, nan, nan],\n",
       " [30.0, 19.0, 19.7336, 37.0933, 71.76, 2.69964],\n",
       " [30.0, 25.0, 19.616, 37.5737, 97.52, 2.69964],\n",
       " [30.0, 24.0, 19.7728, 37.162, 143.52, 2.71196],\n",
       " [30.0, 3.0, 20.204, 36.8871, 50.6, 2.69964],\n",
       " [30.0, 28.0, 19.0476, 40.0945, nan, 2.80151],\n",
       " [30.0, 6.0, 20.4196, 36.6118, 121.44, 2.65143],\n",
       " [30.0, 26.0, 19.4494, 39.62, 121.44, 2.69964],\n",
       " [30.0, 27.0, 20.1354, 37.162, 79.12, 2.71196],\n",
       " [30.0, 31.0, 19.5572, 39.0763, 150.88, 2.69964]]"
      ]
     },
     "execution_count": 7,
     "metadata": {},
     "output_type": "execute_result"
    }
   ],
   "source": [
    "data = f.split(\"\\n\")\n",
    "X = []\n",
    "for i in data[:100]:\n",
    "    X.append([float(x) for x in i.split(\" \")])\n",
    "X[:10]\n"
   ]
  },
  {
   "cell_type": "code",
   "execution_count": 13,
   "metadata": {},
   "outputs": [
    {
     "name": "stdout",
     "output_type": "stream",
     "text": [
      "[['1', '21.5', '23'], ['2', '24.5', '20'], ['3', '19.5', '19'], ['4', '22.5', '15'], ['5', '24.5', '12'], ['6', '19.5', '12'], ['7', '22.5', '8'], ['8', '24.5', '4'], ['9', '21.5', '2'], ['10', '19.5', '5'], ['11', '16.5', '3'], ['12', '13.5', '1'], ['13', '12.5', '5'], ['14', '8.5', '6'], ['15', '5.5', '3'], ['16', '1.5', '2'], ['17', '1.5', '8'], ['18', '5.5', '10'], ['19', '3.5', '13'], ['20', '0.5', '17'], ['21', '4.5', '18'], ['22', '1.5', '23'], ['23', '6', '24'], ['24', '1.5', '30'], ['25', '4.5', '30'], ['26', '7.5', '31'], ['27', '8.5', '26'], ['28', '10.5', '31'], ['29', '12.5', '26'], ['30', '13.5', '31'], ['31', '15.5', '28'], ['32', '17.5', '31'], ['33', '19.5', '26'], ['34', '21.5', '30'], ['35', '24.5', '27'], ['36', '26.5', '31'], ['37', '27.5', '26'], ['38', '30.5', '31'], ['39', '30.5', '26'], ['40', '33.5', '28'], ['41', '36.5', '30'], ['42', '39.5', '30'], ['43', '35.5', '24'], ['44', '40.5', '22'], ['45', '37.5', '19'], ['46', '34.5', '16'], ['47', '39.5', '14'], ['48', '35.5', '10'], ['49', '39.5', '6'], ['50', '38.5', '1'], ['51', '35.5', '4'], ['52', '31.5', '6'], ['53', '28.5', '5'], ['54', '26.5', '2']]\n"
     ]
    },
    {
     "data": {
      "text/plain": [
       "[[1.0, 21.5, 23.0],\n",
       " [2.0, 24.5, 20.0],\n",
       " [3.0, 19.5, 19.0],\n",
       " [4.0, 22.5, 15.0],\n",
       " [5.0, 24.5, 12.0],\n",
       " [6.0, 19.5, 12.0],\n",
       " [7.0, 22.5, 8.0],\n",
       " [8.0, 24.5, 4.0],\n",
       " [9.0, 21.5, 2.0],\n",
       " [10.0, 19.5, 5.0]]"
      ]
     },
     "execution_count": 13,
     "metadata": {},
     "output_type": "execute_result"
    }
   ],
   "source": [
    "positions = open('labapp3-positions.txt', 'r').read().strip()\n",
    "positions = positions.split(\"\\n\")\n",
    "positions = [x.split(\" \") for x in positions]\n",
    "print(positions)\n",
    "positions = [[float(x) for x in data] for data in positions]\n",
    "positions[:10]"
   ]
  },
  {
   "cell_type": "code",
   "execution_count": null,
   "metadata": {},
   "outputs": [],
   "source": []
  }
 ],
 "metadata": {
  "kernelspec": {
   "display_name": "workshop",
   "language": "python",
   "name": "python3"
  },
  "language_info": {
   "codemirror_mode": {
    "name": "ipython",
    "version": 3
   },
   "file_extension": ".py",
   "mimetype": "text/x-python",
   "name": "python",
   "nbconvert_exporter": "python",
   "pygments_lexer": "ipython3",
   "version": "3.9.16"
  },
  "orig_nbformat": 4
 },
 "nbformat": 4,
 "nbformat_minor": 2
}
