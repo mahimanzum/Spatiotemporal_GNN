{
 "cells": [
  {
   "cell_type": "code",
   "execution_count": 16,
   "metadata": {},
   "outputs": [],
   "source": [
    "import os\n",
    "import numpy as np"
   ]
  },
  {
   "cell_type": "code",
   "execution_count": 1,
   "metadata": {},
   "outputs": [
    {
     "name": "stdout",
     "output_type": "stream",
     "text": [
      "0 NaN NaN NaN NaN NaN\n",
      "30 19 19.7336 37.0933 71.76 2.69964\n",
      "30 25 19.616 37.5737 97.52 2.69964\n",
      "30 24 1\n"
     ]
    }
   ],
   "source": [
    "data_file = \"labapp3-data-new.txt\"\n",
    "f = open(data_file, \"r\").read()\n",
    "print(f[:100])"
   ]
  },
  {
   "cell_type": "code",
   "execution_count": null,
   "metadata": {},
   "outputs": [],
   "source": [
    "# data attributes\n",
    "#time nodeid temperature humidity light voltage"
   ]
  },
  {
   "cell_type": "code",
   "execution_count": 54,
   "metadata": {},
   "outputs": [
    {
     "name": "stderr",
     "output_type": "stream",
     "text": [
      "100%|██████████| 2313683/2313683 [00:05<00:00, 390581.44it/s]"
     ]
    },
    {
     "name": "stdout",
     "output_type": "stream",
     "text": [
      "error\n",
      "\n"
     ]
    },
    {
     "name": "stderr",
     "output_type": "stream",
     "text": [
      "\n"
     ]
    },
    {
     "data": {
      "text/plain": [
       "[[0.0, nan, nan, nan, nan, nan],\n",
       " [30.0, 19.0, 19.7336, 37.0933, 71.76, 2.69964],\n",
       " [30.0, 25.0, 19.616, 37.5737, 97.52, 2.69964],\n",
       " [30.0, 24.0, 19.7728, 37.162, 143.52, 2.71196],\n",
       " [30.0, 3.0, 20.204, 36.8871, 50.6, 2.69964],\n",
       " [30.0, 28.0, 19.0476, 40.0945, nan, 2.80151],\n",
       " [30.0, 6.0, 20.4196, 36.6118, 121.44, 2.65143],\n",
       " [30.0, 26.0, 19.4494, 39.62, 121.44, 2.69964],\n",
       " [30.0, 27.0, 20.1354, 37.162, 79.12, 2.71196],\n",
       " [30.0, 31.0, 19.5572, 39.0763, 150.88, 2.69964]]"
      ]
     },
     "execution_count": 54,
     "metadata": {},
     "output_type": "execute_result"
    }
   ],
   "source": [
    "from tqdm import tqdm\n",
    "data = f.split(\"\\n\")\n",
    "X = []\n",
    "\n",
    "for i in tqdm(data):\n",
    "    try:\n",
    "        X.append([float(x) for x in i.split(\" \")])\n",
    "    except:\n",
    "        print(\"error\")\n",
    "        print(i)\n",
    "X[:10]\n"
   ]
  },
  {
   "cell_type": "code",
   "execution_count": 55,
   "metadata": {},
   "outputs": [],
   "source": [
    "from collections import defaultdict\n",
    "data_dict = defaultdict(dict)\n",
    "for dt in tqdm(X):\n",
    "    # check if dt has any nan value\n",
    "    #if np.isnan(dt).any():\n",
    "    if np.isnan(dt[1]):\n",
    "        continue\n",
    "    if int(dt[1]) in data_dict[int(dt[0])].keys():\n",
    "        data_dict[int(dt[0])][int(dt[1])].append(dt[2:])\n",
    "    else:\n",
    "        data_dict[int(dt[0])][int(dt[1])] = [dt[2:]]\n",
    "\n"
   ]
  },
  {
   "cell_type": "code",
   "execution_count": 60,
   "metadata": {},
   "outputs": [
    {
     "data": {
      "text/plain": [
       "{29: [[19.5964, 38.3946, 180.32, 2.68742]],\n",
       " 12: [[17.803, 41.7805, 90.16, 2.66332]],\n",
       " 26: [[19.175, 40.3652, 121.44, 2.68742]],\n",
       " 28: [[18.7634, 40.8381, nan, 2.80151]],\n",
       " 31: [[19.2632, 39.7217, 143.52, 2.69964]],\n",
       " 33: [[19.5768, 38.1897, 104.88, 2.69964]]}"
      ]
     },
     "execution_count": 60,
     "metadata": {},
     "output_type": "execute_result"
    }
   ],
   "source": [
    "data_dict[90]"
   ]
  },
  {
   "cell_type": "code",
   "execution_count": 34,
   "metadata": {},
   "outputs": [
    {
     "name": "stdout",
     "output_type": "stream",
     "text": [
      "[['1', '21.5', '23'], ['2', '24.5', '20'], ['3', '19.5', '19'], ['4', '22.5', '15'], ['5', '24.5', '12'], ['6', '19.5', '12'], ['7', '22.5', '8'], ['8', '24.5', '4'], ['9', '21.5', '2'], ['10', '19.5', '5'], ['11', '16.5', '3'], ['12', '13.5', '1'], ['13', '12.5', '5'], ['14', '8.5', '6'], ['15', '5.5', '3'], ['16', '1.5', '2'], ['17', '1.5', '8'], ['18', '5.5', '10'], ['19', '3.5', '13'], ['20', '0.5', '17'], ['21', '4.5', '18'], ['22', '1.5', '23'], ['23', '6', '24'], ['24', '1.5', '30'], ['25', '4.5', '30'], ['26', '7.5', '31'], ['27', '8.5', '26'], ['28', '10.5', '31'], ['29', '12.5', '26'], ['30', '13.5', '31'], ['31', '15.5', '28'], ['32', '17.5', '31'], ['33', '19.5', '26'], ['34', '21.5', '30'], ['35', '24.5', '27'], ['36', '26.5', '31'], ['37', '27.5', '26'], ['38', '30.5', '31'], ['39', '30.5', '26'], ['40', '33.5', '28'], ['41', '36.5', '30'], ['42', '39.5', '30'], ['43', '35.5', '24'], ['44', '40.5', '22'], ['45', '37.5', '19'], ['46', '34.5', '16'], ['47', '39.5', '14'], ['48', '35.5', '10'], ['49', '39.5', '6'], ['50', '38.5', '1'], ['51', '35.5', '4'], ['52', '31.5', '6'], ['53', '28.5', '5'], ['54', '26.5', '2']]\n"
     ]
    }
   ],
   "source": [
    "positions = open('labapp3-positions.txt', 'r').read().strip()\n",
    "positions = positions.split(\"\\n\")\n",
    "positions = [x.split(\" \") for x in positions]\n",
    "print(positions)\n",
    "positions = [[float(x) for x in data] for data in positions]\n",
    "position = {}\n",
    "for dt in positions:\n",
    "    position[int(dt[0])] = (dt[1], dt[2])"
   ]
  },
  {
   "cell_type": "code",
   "execution_count": 35,
   "metadata": {},
   "outputs": [
    {
     "data": {
      "text/plain": [
       "{1: (21.5, 23.0),\n",
       " 2: (24.5, 20.0),\n",
       " 3: (19.5, 19.0),\n",
       " 4: (22.5, 15.0),\n",
       " 5: (24.5, 12.0),\n",
       " 6: (19.5, 12.0),\n",
       " 7: (22.5, 8.0),\n",
       " 8: (24.5, 4.0),\n",
       " 9: (21.5, 2.0),\n",
       " 10: (19.5, 5.0),\n",
       " 11: (16.5, 3.0),\n",
       " 12: (13.5, 1.0),\n",
       " 13: (12.5, 5.0),\n",
       " 14: (8.5, 6.0),\n",
       " 15: (5.5, 3.0),\n",
       " 16: (1.5, 2.0),\n",
       " 17: (1.5, 8.0),\n",
       " 18: (5.5, 10.0),\n",
       " 19: (3.5, 13.0),\n",
       " 20: (0.5, 17.0),\n",
       " 21: (4.5, 18.0),\n",
       " 22: (1.5, 23.0),\n",
       " 23: (6.0, 24.0),\n",
       " 24: (1.5, 30.0),\n",
       " 25: (4.5, 30.0),\n",
       " 26: (7.5, 31.0),\n",
       " 27: (8.5, 26.0),\n",
       " 28: (10.5, 31.0),\n",
       " 29: (12.5, 26.0),\n",
       " 30: (13.5, 31.0),\n",
       " 31: (15.5, 28.0),\n",
       " 32: (17.5, 31.0),\n",
       " 33: (19.5, 26.0),\n",
       " 34: (21.5, 30.0),\n",
       " 35: (24.5, 27.0),\n",
       " 36: (26.5, 31.0),\n",
       " 37: (27.5, 26.0),\n",
       " 38: (30.5, 31.0),\n",
       " 39: (30.5, 26.0),\n",
       " 40: (33.5, 28.0),\n",
       " 41: (36.5, 30.0),\n",
       " 42: (39.5, 30.0),\n",
       " 43: (35.5, 24.0),\n",
       " 44: (40.5, 22.0),\n",
       " 45: (37.5, 19.0),\n",
       " 46: (34.5, 16.0),\n",
       " 47: (39.5, 14.0),\n",
       " 48: (35.5, 10.0),\n",
       " 49: (39.5, 6.0),\n",
       " 50: (38.5, 1.0),\n",
       " 51: (35.5, 4.0),\n",
       " 52: (31.5, 6.0),\n",
       " 53: (28.5, 5.0),\n",
       " 54: (26.5, 2.0)}"
      ]
     },
     "execution_count": 35,
     "metadata": {},
     "output_type": "execute_result"
    }
   ],
   "source": [
    "position"
   ]
  },
  {
   "cell_type": "code",
   "execution_count": 43,
   "metadata": {},
   "outputs": [],
   "source": [
    "from scipy.spatial.distance import cdist\n",
    "adj = cdist(np.array(positions)[:, 1:], np.array(positions)[:, 1:], metric='euclidean')"
   ]
  },
  {
   "cell_type": "code",
   "execution_count": 41,
   "metadata": {},
   "outputs": [
    {
     "data": {
      "text/plain": [
       "array([[21.5, 23. ],\n",
       "       [24.5, 20. ],\n",
       "       [19.5, 19. ],\n",
       "       [22.5, 15. ],\n",
       "       [24.5, 12. ],\n",
       "       [19.5, 12. ],\n",
       "       [22.5,  8. ],\n",
       "       [24.5,  4. ],\n",
       "       [21.5,  2. ],\n",
       "       [19.5,  5. ],\n",
       "       [16.5,  3. ],\n",
       "       [13.5,  1. ],\n",
       "       [12.5,  5. ],\n",
       "       [ 8.5,  6. ],\n",
       "       [ 5.5,  3. ],\n",
       "       [ 1.5,  2. ],\n",
       "       [ 1.5,  8. ],\n",
       "       [ 5.5, 10. ],\n",
       "       [ 3.5, 13. ],\n",
       "       [ 0.5, 17. ],\n",
       "       [ 4.5, 18. ],\n",
       "       [ 1.5, 23. ],\n",
       "       [ 6. , 24. ],\n",
       "       [ 1.5, 30. ],\n",
       "       [ 4.5, 30. ],\n",
       "       [ 7.5, 31. ],\n",
       "       [ 8.5, 26. ],\n",
       "       [10.5, 31. ],\n",
       "       [12.5, 26. ],\n",
       "       [13.5, 31. ],\n",
       "       [15.5, 28. ],\n",
       "       [17.5, 31. ],\n",
       "       [19.5, 26. ],\n",
       "       [21.5, 30. ],\n",
       "       [24.5, 27. ],\n",
       "       [26.5, 31. ],\n",
       "       [27.5, 26. ],\n",
       "       [30.5, 31. ],\n",
       "       [30.5, 26. ],\n",
       "       [33.5, 28. ],\n",
       "       [36.5, 30. ],\n",
       "       [39.5, 30. ],\n",
       "       [35.5, 24. ],\n",
       "       [40.5, 22. ],\n",
       "       [37.5, 19. ],\n",
       "       [34.5, 16. ],\n",
       "       [39.5, 14. ],\n",
       "       [35.5, 10. ],\n",
       "       [39.5,  6. ],\n",
       "       [38.5,  1. ],\n",
       "       [35.5,  4. ],\n",
       "       [31.5,  6. ],\n",
       "       [28.5,  5. ],\n",
       "       [26.5,  2. ]])"
      ]
     },
     "execution_count": 41,
     "metadata": {},
     "output_type": "execute_result"
    }
   ],
   "source": [
    "np.array(positions)[:, 1:]"
   ]
  },
  {
   "cell_type": "code",
   "execution_count": 17,
   "metadata": {},
   "outputs": [],
   "source": [
    "A = np.load(os.path.join(\"data/adj_mat.npy\"))\n",
    "X = np.load(os.path.join(\"data/node_values.npy\")).transpose(\n",
    "    (1, 2, 0)\n",
    ")"
   ]
  },
  {
   "cell_type": "code",
   "execution_count": 27,
   "metadata": {},
   "outputs": [
    {
     "data": {
      "text/plain": [
       "array([0.        , 1.        , 0.3909554 , 0.        , 0.        ,\n",
       "       0.        , 0.        , 0.39045706, 0.        , 0.        ,\n",
       "       0.        , 0.        , 0.        , 0.        , 0.        ,\n",
       "       0.        , 0.        , 0.        , 0.        , 0.        ,\n",
       "       0.        , 0.        , 0.        , 0.        , 0.        ,\n",
       "       0.        , 0.        , 0.        , 0.573732  , 0.        ,\n",
       "       0.        , 0.        , 0.        , 0.        , 0.        ,\n",
       "       0.        , 0.        , 0.        , 0.        , 0.        ,\n",
       "       0.        , 0.        , 0.        , 0.        , 0.        ,\n",
       "       0.        , 0.        , 0.        , 0.        , 0.        ,\n",
       "       0.        , 0.        , 0.        , 0.        , 0.        ,\n",
       "       0.        , 0.        , 0.        , 0.        , 0.        ,\n",
       "       0.        , 0.        , 0.        , 0.        , 0.        ,\n",
       "       0.        , 0.        , 0.        , 0.        , 0.        ,\n",
       "       0.        , 0.        , 0.        , 0.        , 0.        ,\n",
       "       0.        , 0.        , 0.        , 0.20909733, 0.        ,\n",
       "       0.        , 0.        , 0.        , 0.        , 0.        ,\n",
       "       0.        , 0.        , 0.        , 0.        , 0.        ,\n",
       "       0.        , 0.        , 0.        , 0.        , 0.        ,\n",
       "       0.        , 0.        , 0.        , 0.        , 0.        ,\n",
       "       0.        , 0.        , 0.        , 0.        , 0.        ,\n",
       "       0.        , 0.        , 0.16216348, 0.        , 0.        ,\n",
       "       0.        , 0.        , 0.        , 0.        , 0.        ,\n",
       "       0.        , 0.        , 0.        , 0.        , 0.        ,\n",
       "       0.        , 0.        , 0.        , 0.        , 0.        ,\n",
       "       0.        , 0.        , 0.        , 0.        , 0.        ,\n",
       "       0.        , 0.        , 0.        , 0.        , 0.        ,\n",
       "       0.        , 0.        , 0.        , 0.        , 0.        ,\n",
       "       0.        , 0.        , 0.        , 0.        , 0.        ,\n",
       "       0.        , 0.        , 0.        , 0.        , 0.        ,\n",
       "       0.        , 0.        , 0.        , 0.        , 0.        ,\n",
       "       0.        , 0.        , 0.        , 0.        , 0.        ,\n",
       "       0.        , 0.        , 0.        , 0.        , 0.        ,\n",
       "       0.        , 0.        , 0.        , 0.        , 0.        ,\n",
       "       0.        , 0.        , 0.        , 0.        , 0.        ,\n",
       "       0.        , 0.        , 0.92621875, 0.        , 0.        ,\n",
       "       0.        , 0.        , 0.        , 0.15487239, 0.        ,\n",
       "       0.        , 0.        , 0.        , 0.        , 0.        ,\n",
       "       0.        , 0.        , 0.        , 0.        , 0.        ,\n",
       "       0.        , 0.        , 0.        , 0.        , 0.        ,\n",
       "       0.        , 0.        , 0.        , 0.        , 0.        ,\n",
       "       0.        , 0.        ], dtype=float32)"
      ]
     },
     "execution_count": 27,
     "metadata": {},
     "output_type": "execute_result"
    }
   ],
   "source": [
    "A[1]"
   ]
  },
  {
   "cell_type": "code",
   "execution_count": 29,
   "metadata": {},
   "outputs": [
    {
     "data": {
      "text/plain": [
       "(207, 2, 34272)"
      ]
     },
     "execution_count": 29,
     "metadata": {},
     "output_type": "execute_result"
    }
   ],
   "source": [
    "X.shape"
   ]
  },
  {
   "cell_type": "code",
   "execution_count": 33,
   "metadata": {},
   "outputs": [
    {
     "data": {
      "text/plain": [
       "(34272, 207, 2)"
      ]
     },
     "execution_count": 33,
     "metadata": {},
     "output_type": "execute_result"
    }
   ],
   "source": [
    "np.load(os.path.join(\"data/node_values.npy\")).shape"
   ]
  },
  {
   "cell_type": "code",
   "execution_count": null,
   "metadata": {},
   "outputs": [],
   "source": [
    "# number of data * number of sensors * per sensor data "
   ]
  }
 ],
 "metadata": {
  "kernelspec": {
   "display_name": "workshop",
   "language": "python",
   "name": "python3"
  },
  "language_info": {
   "codemirror_mode": {
    "name": "ipython",
    "version": 3
   },
   "file_extension": ".py",
   "mimetype": "text/x-python",
   "name": "python",
   "nbconvert_exporter": "python",
   "pygments_lexer": "ipython3",
   "version": "3.9.16"
  },
  "orig_nbformat": 4
 },
 "nbformat": 4,
 "nbformat_minor": 2
}
