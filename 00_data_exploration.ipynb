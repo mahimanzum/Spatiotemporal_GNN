{
 "cells": [
  {
   "cell_type": "code",
   "execution_count": 1,
   "metadata": {},
   "outputs": [],
   "source": [
    "import os\n",
    "import numpy as np"
   ]
  },
  {
   "cell_type": "code",
   "execution_count": 10,
   "metadata": {},
   "outputs": [
    {
     "name": "stdout",
     "output_type": "stream",
     "text": [
      "0 NaN NaN NaN NaN NaN\n",
      "30 19 19.7336 37.0933 71.76 2.69964\n",
      "30 25 19.616 37.5737 97.52 2.69964\n",
      "30 24 1\n"
     ]
    }
   ],
   "source": [
    "data_file = \"labapp3-data-new.txt\"\n",
    "f = open(data_file, \"r\").read()\n",
    "print(f[:100])"
   ]
  },
  {
   "cell_type": "code",
   "execution_count": 11,
   "metadata": {},
   "outputs": [],
   "source": [
    "# data attributes\n",
    "#time nodeid temperature humidity light voltage"
   ]
  },
  {
   "cell_type": "code",
   "execution_count": 13,
   "metadata": {},
   "outputs": [
    {
     "name": "stderr",
     "output_type": "stream",
     "text": [
      "100%|██████████| 2313683/2313683 [00:14<00:00, 162854.73it/s]"
     ]
    },
    {
     "name": "stdout",
     "output_type": "stream",
     "text": [
      "error\n",
      "\n"
     ]
    },
    {
     "name": "stderr",
     "output_type": "stream",
     "text": [
      "\n"
     ]
    },
    {
     "data": {
      "text/plain": [
       "[[30.0, 19.0, 19.7336, 37.0933, 71.76, 2.69964],\n",
       " [30.0, 25.0, 19.616, 37.5737, 97.52, 2.69964],\n",
       " [30.0, 24.0, 19.7728, 37.162, 143.52, 2.71196],\n",
       " [30.0, 3.0, 20.204, 36.8871, 50.6, 2.69964],\n",
       " [30.0, 6.0, 20.4196, 36.6118, 121.44, 2.65143],\n",
       " [30.0, 26.0, 19.4494, 39.62, 121.44, 2.69964],\n",
       " [30.0, 27.0, 20.1354, 37.162, 79.12, 2.71196],\n",
       " [30.0, 31.0, 19.5572, 39.0763, 150.88, 2.69964],\n",
       " [30.0, 34.0, 19.4298, 39.0763, 60.72, 2.68742],\n",
       " [30.0, 43.0, 19.7532, 35.853, 478.4, 2.65143]]"
      ]
     },
     "execution_count": 13,
     "metadata": {},
     "output_type": "execute_result"
    }
   ],
   "source": [
    "from tqdm import tqdm\n",
    "\n",
    "data = f.split(\"\\n\")\n",
    "X = []\n",
    "\n",
    "for i in tqdm(data):\n",
    "    try:\n",
    "        X.append([float(x) for x in i.split(\" \")])\n",
    "        # check if list has nan values\n",
    "        if np.isnan(X[-1]).any():\n",
    "            X.pop()\n",
    "    except:\n",
    "        print(\"error\")\n",
    "        print(i)\n",
    "X[:10]\n"
   ]
  },
  {
   "cell_type": "code",
   "execution_count": 25,
   "metadata": {},
   "outputs": [
    {
     "name": "stdout",
     "output_type": "stream",
     "text": [
      "[0.         0.         0.03791455 0.02610045 0.         0.01777681]\n"
     ]
    }
   ],
   "source": [
    "temp = X[:10]\n",
    "#get the last 4 values of this list normalized\n",
    "MIN_S = np.min(np.array(temp), axis=0)\n",
    "MAX_S = np.max(np.array(temp), axis=0)\n",
    "\n",
    "print((np.array(temp[3])-MIN_S)/MAX_S)\n"
   ]
  },
  {
   "cell_type": "code",
   "execution_count": null,
   "metadata": {},
   "outputs": [],
   "source": []
  },
  {
   "cell_type": "code",
   "execution_count": 15,
   "metadata": {},
   "outputs": [
    {
     "name": "stderr",
     "output_type": "stream",
     "text": [
      "100%|██████████| 2219803/2219803 [00:08<00:00, 273310.67it/s]\n"
     ]
    }
   ],
   "source": [
    "from collections import defaultdict\n",
    "data_dict = defaultdict(dict)\n",
    "for dt in tqdm(X):\n",
    "    # check if dt has any nan value\n",
    "    #if np.isnan(dt).any():\n",
    "    if np.isnan(dt[1]):\n",
    "        continue\n",
    "    if int(dt[1]) in data_dict[int(dt[0])].keys():\n",
    "        data_dict[int(dt[0])][int(dt[1])].append(dt[2:])\n",
    "    else:\n",
    "        data_dict[int(dt[0])][int(dt[1])] = dt[2:]\n",
    "\n"
   ]
  },
  {
   "cell_type": "code",
   "execution_count": 27,
   "metadata": {},
   "outputs": [
    {
     "data": {
      "text/plain": [
       "{3: [19.3318, 38.9401, 48.76, 2.68742],\n",
       " 29: [18.8222, 40.3652, 180.32, 2.67532],\n",
       " 27: [19.1848, 39.3143, 79.12, 2.69964],\n",
       " 42: [17.8912, 40.399, 478.4, 2.67532],\n",
       " 18: [18.8712, 38.8379, 57.04, 2.50599],\n",
       " 17: [18.6556, 39.5521, 32.2, 2.57108],\n",
       " 4: [19.7336, 39.4842, 97.52, 2.65143],\n",
       " 11: [18.5184, 41.7133, 861.12, 2.67532],\n",
       " 45: [18.2342, 38.3263, 172.96, 2.67532],\n",
       " 19: [18.9104, 38.872, 71.76, 2.68742],\n",
       " 44: [17.6364, 40.6693, 97.52, 2.67532],\n",
       " 40: [18.6458, 39.62, 172.96, 2.68742],\n",
       " 22: [18.7144, 38.9742, 79.12, 2.67532],\n",
       " 14: [17.7736, 41.8812, 28.52, 2.69964],\n",
       " 43: [18.8222, 37.745, 456.32, 2.65143],\n",
       " 46: [18.3028, 38.7357, 114.08, 2.47467],\n",
       " 54: [15.8234, 46.2297, 41.4, 2.65143],\n",
       " 21: [19.1456, 38.1213, 108.56, 2.69964],\n",
       " 25: [18.3616, 40.0945, 97.52, 2.67532],\n",
       " 8: [18.8124, 40.2976, 108.56, 2.68742],\n",
       " 52: [17.5384, 40.568, 60.72, 2.65143],\n",
       " 23: [19.3808, 38.1213, 224.48, 2.68742],\n",
       " 20: [20.2432, 35.9912, 128.8, 3.14243],\n",
       " 39: [19.0182, 39.6878, 150.88, 2.68742],\n",
       " 47: [18.0676, 40.1622, 655.04, 2.67532]}"
      ]
     },
     "execution_count": 27,
     "metadata": {},
     "output_type": "execute_result"
    }
   ],
   "source": [
    "data_dict[900]"
   ]
  },
  {
   "cell_type": "code",
   "execution_count": 31,
   "metadata": {},
   "outputs": [
    {
     "name": "stdout",
     "output_type": "stream",
     "text": [
      "0 1\n",
      "0 2\n",
      "1 0\n",
      "1 2\n",
      "2 0\n",
      "2 1\n"
     ]
    }
   ],
   "source": [
    "num_sensors = 3\n",
    "adj_matrix = np.ones((num_sensors, num_sensors))\n",
    "np.fill_diagonal(adj_matrix, 0)\n",
    "temp = np.transpose(np.nonzero(adj_matrix)).reshape(1, -1)\n",
    "edge_list = np.array([np.array(temp[0][::2]) , np.array(temp[0][1::2])])\n",
    "for idx in range(edge_list.shape[1]):\n",
    "    print(edge_list[0][idx], edge_list[1][idx])"
   ]
  },
  {
   "cell_type": "code",
   "execution_count": 34,
   "metadata": {},
   "outputs": [
    {
     "name": "stdout",
     "output_type": "stream",
     "text": [
      "[['1', '21.5', '23'], ['2', '24.5', '20'], ['3', '19.5', '19'], ['4', '22.5', '15'], ['5', '24.5', '12'], ['6', '19.5', '12'], ['7', '22.5', '8'], ['8', '24.5', '4'], ['9', '21.5', '2'], ['10', '19.5', '5'], ['11', '16.5', '3'], ['12', '13.5', '1'], ['13', '12.5', '5'], ['14', '8.5', '6'], ['15', '5.5', '3'], ['16', '1.5', '2'], ['17', '1.5', '8'], ['18', '5.5', '10'], ['19', '3.5', '13'], ['20', '0.5', '17'], ['21', '4.5', '18'], ['22', '1.5', '23'], ['23', '6', '24'], ['24', '1.5', '30'], ['25', '4.5', '30'], ['26', '7.5', '31'], ['27', '8.5', '26'], ['28', '10.5', '31'], ['29', '12.5', '26'], ['30', '13.5', '31'], ['31', '15.5', '28'], ['32', '17.5', '31'], ['33', '19.5', '26'], ['34', '21.5', '30'], ['35', '24.5', '27'], ['36', '26.5', '31'], ['37', '27.5', '26'], ['38', '30.5', '31'], ['39', '30.5', '26'], ['40', '33.5', '28'], ['41', '36.5', '30'], ['42', '39.5', '30'], ['43', '35.5', '24'], ['44', '40.5', '22'], ['45', '37.5', '19'], ['46', '34.5', '16'], ['47', '39.5', '14'], ['48', '35.5', '10'], ['49', '39.5', '6'], ['50', '38.5', '1'], ['51', '35.5', '4'], ['52', '31.5', '6'], ['53', '28.5', '5'], ['54', '26.5', '2']]\n"
     ]
    }
   ],
   "source": [
    "positions = open('labapp3-positions.txt', 'r').read().strip()\n",
    "positions = positions.split(\"\\n\")\n",
    "positions = [x.split(\" \") for x in positions]\n",
    "print(positions)\n",
    "positions = [[float(x) for x in data] for data in positions]\n",
    "position = {}\n",
    "for dt in positions:\n",
    "    position[int(dt[0])] = (dt[1], dt[2])"
   ]
  },
  {
   "cell_type": "code",
   "execution_count": 35,
   "metadata": {},
   "outputs": [
    {
     "data": {
      "text/plain": [
       "{1: (21.5, 23.0),\n",
       " 2: (24.5, 20.0),\n",
       " 3: (19.5, 19.0),\n",
       " 4: (22.5, 15.0),\n",
       " 5: (24.5, 12.0),\n",
       " 6: (19.5, 12.0),\n",
       " 7: (22.5, 8.0),\n",
       " 8: (24.5, 4.0),\n",
       " 9: (21.5, 2.0),\n",
       " 10: (19.5, 5.0),\n",
       " 11: (16.5, 3.0),\n",
       " 12: (13.5, 1.0),\n",
       " 13: (12.5, 5.0),\n",
       " 14: (8.5, 6.0),\n",
       " 15: (5.5, 3.0),\n",
       " 16: (1.5, 2.0),\n",
       " 17: (1.5, 8.0),\n",
       " 18: (5.5, 10.0),\n",
       " 19: (3.5, 13.0),\n",
       " 20: (0.5, 17.0),\n",
       " 21: (4.5, 18.0),\n",
       " 22: (1.5, 23.0),\n",
       " 23: (6.0, 24.0),\n",
       " 24: (1.5, 30.0),\n",
       " 25: (4.5, 30.0),\n",
       " 26: (7.5, 31.0),\n",
       " 27: (8.5, 26.0),\n",
       " 28: (10.5, 31.0),\n",
       " 29: (12.5, 26.0),\n",
       " 30: (13.5, 31.0),\n",
       " 31: (15.5, 28.0),\n",
       " 32: (17.5, 31.0),\n",
       " 33: (19.5, 26.0),\n",
       " 34: (21.5, 30.0),\n",
       " 35: (24.5, 27.0),\n",
       " 36: (26.5, 31.0),\n",
       " 37: (27.5, 26.0),\n",
       " 38: (30.5, 31.0),\n",
       " 39: (30.5, 26.0),\n",
       " 40: (33.5, 28.0),\n",
       " 41: (36.5, 30.0),\n",
       " 42: (39.5, 30.0),\n",
       " 43: (35.5, 24.0),\n",
       " 44: (40.5, 22.0),\n",
       " 45: (37.5, 19.0),\n",
       " 46: (34.5, 16.0),\n",
       " 47: (39.5, 14.0),\n",
       " 48: (35.5, 10.0),\n",
       " 49: (39.5, 6.0),\n",
       " 50: (38.5, 1.0),\n",
       " 51: (35.5, 4.0),\n",
       " 52: (31.5, 6.0),\n",
       " 53: (28.5, 5.0),\n",
       " 54: (26.5, 2.0)}"
      ]
     },
     "execution_count": 35,
     "metadata": {},
     "output_type": "execute_result"
    }
   ],
   "source": [
    "position"
   ]
  },
  {
   "cell_type": "code",
   "execution_count": 39,
   "metadata": {},
   "outputs": [
    {
     "data": {
      "text/plain": [
       "array([18, 24, 23,  2,  5, 25, 26, 30, 33, 42, 19, 39])"
      ]
     },
     "execution_count": 39,
     "metadata": {},
     "output_type": "execute_result"
    }
   ],
   "source": [
    "np.array(list(data_dict[30].keys()))-1"
   ]
  },
  {
   "cell_type": "code",
   "execution_count": 91,
   "metadata": {},
   "outputs": [],
   "source": [
    "from scipy.spatial.distance import cdist\n",
    "adj = cdist(np.array(positions)[:, 1:], np.array(positions)[:, 1:], metric='euclidean')"
   ]
  },
  {
   "cell_type": "code",
   "execution_count": 92,
   "metadata": {},
   "outputs": [
    {
     "data": {
      "text/plain": [
       "(54, 54)"
      ]
     },
     "execution_count": 92,
     "metadata": {},
     "output_type": "execute_result"
    }
   ],
   "source": [
    "adj.shape"
   ]
  },
  {
   "cell_type": "code",
   "execution_count": 17,
   "metadata": {},
   "outputs": [],
   "source": [
    "A = np.load(os.path.join(\"data/adj_mat.npy\"))\n",
    "X = np.load(os.path.join(\"data/node_values.npy\")).transpose(\n",
    "    (1, 2, 0)\n",
    ")"
   ]
  },
  {
   "cell_type": "code",
   "execution_count": 29,
   "metadata": {},
   "outputs": [
    {
     "data": {
      "text/plain": [
       "(207, 2, 34272)"
      ]
     },
     "execution_count": 29,
     "metadata": {},
     "output_type": "execute_result"
    }
   ],
   "source": [
    "X.shape \n",
    "#sensors, total outputs time\n",
    "\n"
   ]
  },
  {
   "cell_type": "code",
   "execution_count": 85,
   "metadata": {},
   "outputs": [],
   "source": [
    "our_x = np.zeros((54,len(list(data_dict.keys())), 4))\n",
    "\n",
    "time_idx = {}\n",
    "for idx, key in enumerate(data_dict.keys()):\n",
    "    time_idx[key] = idx"
   ]
  },
  {
   "cell_type": "code",
   "execution_count": 102,
   "metadata": {},
   "outputs": [
    {
     "name": "stderr",
     "output_type": "stream",
     "text": [
      "100%|██████████| 2313683/2313683 [00:06<00:00, 355962.60it/s]\n"
     ]
    }
   ],
   "source": [
    "from tqdm import tqdm\n",
    "data = f.split(\"\\n\")\n",
    "\n",
    "for i in tqdm(data):\n",
    "    try:\n",
    "        X = [float(x) for x in i.split(\" \")]\n",
    "        our_x[int(X[1])][time_idx[int(X[0]) -1]][0] = X[2]\n",
    "        our_x[int(X[1])][time_idx[int(X[0]) -1]][1] = X[3]\n",
    "        our_x[int(X[1])][time_idx[int(X[0]) -1]][2] = X[4]\n",
    "        our_x[int(X[1])][time_idx[int(X[0]) -1]][3] = X[5]\n",
    "\n",
    "    except:\n",
    "        continue"
   ]
  },
  {
   "cell_type": "code",
   "execution_count": 103,
   "metadata": {},
   "outputs": [
    {
     "data": {
      "text/plain": [
       "(54, 4, 210800)"
      ]
     },
     "execution_count": 103,
     "metadata": {},
     "output_type": "execute_result"
    }
   ],
   "source": [
    "our_x.shape"
   ]
  },
  {
   "cell_type": "code",
   "execution_count": 104,
   "metadata": {},
   "outputs": [
    {
     "data": {
      "text/plain": [
       "(54, 210800, 4)"
      ]
     },
     "execution_count": 104,
     "metadata": {},
     "output_type": "execute_result"
    }
   ],
   "source": [
    "our_x = our_x.transpose(0, 2, 1)\n",
    "our_x.shape"
   ]
  },
  {
   "cell_type": "code",
   "execution_count": 105,
   "metadata": {},
   "outputs": [],
   "source": [
    "# save numpy array to a file\n",
    "from numpy import asarray\n",
    "from numpy import save\n",
    "# save to npy file\n",
    "save('data/our_data.npy', our_x)\n",
    "save('data/our_adj.npy', adj)\n"
   ]
  },
  {
   "cell_type": "code",
   "execution_count": 75,
   "metadata": {},
   "outputs": [
    {
     "data": {
      "text/plain": [
       "{25: [18.93, 38.8039, 97.52, 2.68742],\n",
       " 30: [18.4596, 41.5789, 114.08, 2.68742],\n",
       " 10: [19.273, 39.9252, 75.44, 2.67532],\n",
       " 26: [18.8614, 40.9055, 121.44, 2.68742],\n",
       " 31: [18.9496, 40.3652, 150.88, 2.69964],\n",
       " 32: [18.734, 39.9929, 121.44, 2.69964],\n",
       " 21: [19.5964, 37.162, 114.08, 2.69964]}"
      ]
     },
     "execution_count": 75,
     "metadata": {},
     "output_type": "execute_result"
    }
   ],
   "source": [
    "data_dict[30]"
   ]
  },
  {
   "cell_type": "code",
   "execution_count": 65,
   "metadata": {},
   "outputs": [],
   "source": [
    "X = np.load(os.path.join(\"data/node_values.npy\"))"
   ]
  },
  {
   "cell_type": "code",
   "execution_count": 74,
   "metadata": {},
   "outputs": [
    {
     "data": {
      "text/plain": [
       "array([[67.        ,  0.69444444],\n",
       "       [63.5       ,  0.69444444],\n",
       "       [65.5       ,  0.69444444],\n",
       "       [53.375     ,  0.69444444],\n",
       "       [40.625     ,  0.69444444],\n",
       "       [63.        ,  0.69444444],\n",
       "       [31.625     ,  0.69444444],\n",
       "       [62.25      ,  0.69444444],\n",
       "       [65.375     ,  0.69444444],\n",
       "       [68.375     ,  0.69444444],\n",
       "       [62.625     ,  0.69444444],\n",
       "       [62.625     ,  0.69444444],\n",
       "       [15.        ,  0.69444444],\n",
       "       [68.375     ,  0.69444444],\n",
       "       [65.875     ,  0.69444444],\n",
       "       [46.        ,  0.69444444],\n",
       "       [19.375     ,  0.69444444],\n",
       "       [56.375     ,  0.69444444],\n",
       "       [57.25      ,  0.69444444],\n",
       "       [47.        ,  0.69444444],\n",
       "       [68.5       ,  0.69444444],\n",
       "       [64.625     ,  0.69444444],\n",
       "       [49.125     ,  0.69444444],\n",
       "       [ 0.        ,  0.69444444],\n",
       "       [54.125     ,  0.69444444],\n",
       "       [ 0.        ,  0.69444444],\n",
       "       [34.14285714,  0.69444444],\n",
       "       [62.        ,  0.69444444],\n",
       "       [68.375     ,  0.69444444],\n",
       "       [44.375     ,  0.69444444],\n",
       "       [60.75      ,  0.69444444],\n",
       "       [64.625     ,  0.69444444],\n",
       "       [68.125     ,  0.69444444],\n",
       "       [53.        ,  0.69444444],\n",
       "       [63.        ,  0.69444444],\n",
       "       [65.375     ,  0.69444444],\n",
       "       [69.75      ,  0.69444444],\n",
       "       [50.25      ,  0.69444444],\n",
       "       [ 8.625     ,  0.69444444],\n",
       "       [38.25      ,  0.69444444],\n",
       "       [65.5       ,  0.69444444],\n",
       "       [61.25      ,  0.69444444],\n",
       "       [29.875     ,  0.69444444],\n",
       "       [31.375     ,  0.69444444],\n",
       "       [68.75      ,  0.69444444],\n",
       "       [67.5       ,  0.69444444],\n",
       "       [60.        ,  0.69444444],\n",
       "       [36.125     ,  0.69444444],\n",
       "       [13.625     ,  0.69444444],\n",
       "       [61.5       ,  0.69444444],\n",
       "       [64.375     ,  0.69444444],\n",
       "       [ 0.        ,  0.69444444],\n",
       "       [43.375     ,  0.69444444],\n",
       "       [52.        ,  0.69444444],\n",
       "       [38.        ,  0.69444444],\n",
       "       [61.25      ,  0.69444444],\n",
       "       [39.85714286,  0.69444444],\n",
       "       [27.625     ,  0.69444444],\n",
       "       [63.75      ,  0.69444444],\n",
       "       [63.75      ,  0.69444444],\n",
       "       [38.125     ,  0.69444444],\n",
       "       [22.375     ,  0.69444444],\n",
       "       [55.5       ,  0.69444444],\n",
       "       [47.875     ,  0.69444444],\n",
       "       [66.        ,  0.69444444],\n",
       "       [58.625     ,  0.69444444],\n",
       "       [66.5       ,  0.69444444],\n",
       "       [69.625     ,  0.69444444],\n",
       "       [67.875     ,  0.69444444],\n",
       "       [42.5       ,  0.69444444],\n",
       "       [63.125     ,  0.69444444],\n",
       "       [62.75      ,  0.69444444],\n",
       "       [28.625     ,  0.69444444],\n",
       "       [25.5       ,  0.69444444],\n",
       "       [24.25      ,  0.69444444],\n",
       "       [44.625     ,  0.69444444],\n",
       "       [22.75      ,  0.69444444],\n",
       "       [67.875     ,  0.69444444],\n",
       "       [67.875     ,  0.69444444],\n",
       "       [66.875     ,  0.69444444],\n",
       "       [69.25      ,  0.69444444],\n",
       "       [40.5       ,  0.69444444],\n",
       "       [26.375     ,  0.69444444],\n",
       "       [66.625     ,  0.69444444],\n",
       "       [59.        ,  0.69444444],\n",
       "       [67.625     ,  0.69444444],\n",
       "       [35.875     ,  0.69444444],\n",
       "       [60.25      ,  0.69444444],\n",
       "       [66.5       ,  0.69444444],\n",
       "       [65.5       ,  0.69444444],\n",
       "       [68.25      ,  0.69444444],\n",
       "       [30.875     ,  0.69444444],\n",
       "       [67.625     ,  0.69444444],\n",
       "       [21.        ,  0.69444444],\n",
       "       [42.        ,  0.69444444],\n",
       "       [57.5       ,  0.69444444],\n",
       "       [69.25      ,  0.69444444],\n",
       "       [24.75      ,  0.69444444],\n",
       "       [58.375     ,  0.69444444],\n",
       "       [68.125     ,  0.69444444],\n",
       "       [59.57142857,  0.69444444],\n",
       "       [ 0.        ,  0.69444444],\n",
       "       [61.25      ,  0.69444444],\n",
       "       [66.5       ,  0.69444444],\n",
       "       [61.5       ,  0.69444444],\n",
       "       [ 0.        ,  0.69444444],\n",
       "       [65.25      ,  0.69444444],\n",
       "       [67.25      ,  0.69444444],\n",
       "       [67.625     ,  0.69444444],\n",
       "       [54.5       ,  0.69444444],\n",
       "       [67.5       ,  0.69444444],\n",
       "       [27.375     ,  0.69444444],\n",
       "       [31.83333333,  0.69444444],\n",
       "       [40.875     ,  0.69444444],\n",
       "       [67.125     ,  0.69444444],\n",
       "       [67.25      ,  0.69444444],\n",
       "       [65.25      ,  0.69444444],\n",
       "       [65.625     ,  0.69444444],\n",
       "       [68.375     ,  0.69444444],\n",
       "       [23.75      ,  0.69444444],\n",
       "       [ 0.        ,  0.69444444],\n",
       "       [65.375     ,  0.69444444],\n",
       "       [69.25      ,  0.69444444],\n",
       "       [67.        ,  0.69444444],\n",
       "       [ 0.        ,  0.69444444],\n",
       "       [ 0.        ,  0.69444444],\n",
       "       [61.75      ,  0.69444444],\n",
       "       [67.875     ,  0.69444444],\n",
       "       [26.25      ,  0.69444444],\n",
       "       [61.33333333,  0.69444444],\n",
       "       [60.5       ,  0.69444444],\n",
       "       [16.625     ,  0.69444444],\n",
       "       [67.75      ,  0.69444444],\n",
       "       [38.        ,  0.69444444],\n",
       "       [26.28571429,  0.69444444],\n",
       "       [62.625     ,  0.69444444],\n",
       "       [39.875     ,  0.69444444],\n",
       "       [42.        ,  0.69444444],\n",
       "       [40.75      ,  0.69444444],\n",
       "       [ 0.        ,  0.69444444],\n",
       "       [60.        ,  0.69444444],\n",
       "       [37.875     ,  0.69444444],\n",
       "       [51.875     ,  0.69444444],\n",
       "       [58.5       ,  0.69444444],\n",
       "       [35.5       ,  0.69444444],\n",
       "       [42.25      ,  0.69444444],\n",
       "       [20.625     ,  0.69444444],\n",
       "       [ 0.        ,  0.69444444],\n",
       "       [62.125     ,  0.69444444],\n",
       "       [ 9.875     ,  0.69444444],\n",
       "       [51.25      ,  0.69444444],\n",
       "       [60.25      ,  0.69444444],\n",
       "       [64.        ,  0.69444444],\n",
       "       [64.375     ,  0.69444444],\n",
       "       [23.875     ,  0.69444444],\n",
       "       [64.375     ,  0.69444444],\n",
       "       [58.375     ,  0.69444444],\n",
       "       [22.125     ,  0.69444444],\n",
       "       [18.625     ,  0.69444444],\n",
       "       [63.875     ,  0.69444444],\n",
       "       [23.125     ,  0.69444444],\n",
       "       [37.625     ,  0.69444444],\n",
       "       [20.75      ,  0.69444444],\n",
       "       [27.75      ,  0.69444444],\n",
       "       [25.75      ,  0.69444444],\n",
       "       [ 0.        ,  0.69444444],\n",
       "       [30.        ,  0.69444444],\n",
       "       [66.625     ,  0.69444444],\n",
       "       [60.375     ,  0.69444444],\n",
       "       [63.        ,  0.69444444],\n",
       "       [ 0.        ,  0.69444444],\n",
       "       [65.25      ,  0.69444444],\n",
       "       [36.375     ,  0.69444444],\n",
       "       [62.        ,  0.69444444],\n",
       "       [ 0.        ,  0.69444444],\n",
       "       [32.375     ,  0.69444444],\n",
       "       [68.75      ,  0.69444444],\n",
       "       [60.375     ,  0.69444444],\n",
       "       [67.        ,  0.69444444],\n",
       "       [58.        ,  0.69444444],\n",
       "       [46.75      ,  0.69444444],\n",
       "       [60.75      ,  0.69444444],\n",
       "       [61.875     ,  0.69444444],\n",
       "       [67.25      ,  0.69444444],\n",
       "       [61.        ,  0.69444444],\n",
       "       [66.5       ,  0.69444444],\n",
       "       [43.75      ,  0.69444444],\n",
       "       [21.25      ,  0.69444444],\n",
       "       [40.25      ,  0.69444444],\n",
       "       [65.        ,  0.69444444],\n",
       "       [45.5       ,  0.69444444],\n",
       "       [25.75      ,  0.69444444],\n",
       "       [61.25      ,  0.69444444],\n",
       "       [22.5       ,  0.69444444],\n",
       "       [61.5       ,  0.69444444],\n",
       "       [64.25      ,  0.69444444],\n",
       "       [20.375     ,  0.69444444],\n",
       "       [25.75      ,  0.69444444],\n",
       "       [17.875     ,  0.69444444],\n",
       "       [63.66666667,  0.69444444],\n",
       "       [67.875     ,  0.69444444],\n",
       "       [68.875     ,  0.69444444],\n",
       "       [64.25      ,  0.69444444],\n",
       "       [60.        ,  0.69444444],\n",
       "       [55.625     ,  0.69444444],\n",
       "       [61.25      ,  0.69444444],\n",
       "       [62.75      ,  0.69444444]])"
      ]
     },
     "execution_count": 74,
     "metadata": {},
     "output_type": "execute_result"
    }
   ],
   "source": [
    "X[200]"
   ]
  },
  {
   "cell_type": "code",
   "execution_count": null,
   "metadata": {},
   "outputs": [],
   "source": [
    "# number of data * number of sensors * per sensor data "
   ]
  },
  {
   "cell_type": "code",
   "execution_count": 61,
   "metadata": {},
   "outputs": [
    {
     "name": "stderr",
     "output_type": "stream",
     "text": [
      "100%|██████████| 2313683/2313683 [00:21<00:00, 109060.38it/s]\n",
      "100%|██████████| 2219803/2219803 [00:07<00:00, 291090.75it/s]\n"
     ]
    }
   ],
   "source": [
    "import pandas as pd\n",
    "from torch_geometric.data import Data\n",
    "import numpy as np\n",
    "import torch\n",
    "import torch.nn as nn\n",
    "\n",
    "from torch_geometric.nn import GCNConv\n",
    "import torch.nn.functional as F\n",
    "from tqdm import tqdm\n",
    "import math\n",
    "from torch_geometric.nn import GCNConv, GATv2Conv\n",
    "from torch_geometric.loader import DataLoader\n",
    "torch.manual_seed(12345)\n",
    "\n",
    "\n",
    "\n",
    "positions = open('labapp3-positions.txt', 'r').read().strip()\n",
    "positions = positions.split(\"\\n\")\n",
    "positions = [x.split(\" \") for x in positions]\n",
    "#print(positions)\n",
    "positions = [[float(x) for x in data] for data in positions]\n",
    "position = {}\n",
    "for dt in positions:\n",
    "    position[int(dt[0])] = (dt[1], dt[2])\n",
    "\n",
    "from tqdm import tqdm\n",
    "data_file = \"labapp3-data-new.txt\"\n",
    "f = open(data_file, \"r\").read()\n",
    "data = f.split(\"\\n\")\n",
    "X = []\n",
    "for i in tqdm(data):\n",
    "    try:\n",
    "        X.append([float(x) for x in i.split(\" \")])\n",
    "        if np.isnan(X[-1]).any():\n",
    "            X.pop()\n",
    "    except:\n",
    "        pass\n",
    "MIN_S = np.min(np.array(X), axis=0)\n",
    "MAX_S = np.max(np.array(X), axis=0)\n",
    "num_sensors = 54\n",
    "from collections import defaultdict\n",
    "data_dict = defaultdict(dict)\n",
    "for dt in tqdm(X):\n",
    "    if np.isnan(dt[1]):\n",
    "        continue\n",
    "    if int(dt[1]) < num_sensors:\n",
    "        data_dict[int(dt[0])][int(dt[1])] = dt[2:]\n",
    "\n",
    "adj_matrix = np.ones((num_sensors, num_sensors))\n",
    "np.fill_diagonal(adj_matrix, 0)\n",
    "temp = np.transpose(np.nonzero(adj_matrix)).reshape(1, -1)\n",
    "edge_list = np.array([np.array(temp[0][::2]) , np.array(temp[0][1::2])])\n",
    "edge_attr = []\n",
    "for idx in range(edge_list.shape[1]):\n",
    "    fm, to = edge_list[0][idx]+1, edge_list[1][idx]+1\n",
    "    edge_attr.append(math.sqrt((position[fm][0]-position[to][0])**2 + (position[fm][1]-position[to][1])**2))\n",
    "edge_attr = np.array(edge_attr)\n"
   ]
  },
  {
   "cell_type": "code",
   "execution_count": null,
   "metadata": {},
   "outputs": [],
   "source": []
  },
  {
   "cell_type": "code",
   "execution_count": 62,
   "metadata": {},
   "outputs": [
    {
     "ename": "KeyboardInterrupt",
     "evalue": "",
     "output_type": "error",
     "traceback": [
      "\u001b[0;31m---------------------------------------------------------------------------\u001b[0m",
      "\u001b[0;31mKeyboardInterrupt\u001b[0m                         Traceback (most recent call last)",
      "Cell \u001b[0;32mIn[62], line 25\u001b[0m\n\u001b[1;32m     23\u001b[0m g\u001b[39m.\u001b[39mtrain_mask \u001b[39m=\u001b[39m np\u001b[39m.\u001b[39marray([\u001b[39mFalse\u001b[39;00m]\u001b[39m*\u001b[39mnum_sensors)\n\u001b[1;32m     24\u001b[0m g\u001b[39m.\u001b[39mtrain_mask[np\u001b[39m.\u001b[39marray(\u001b[39mlist\u001b[39m(data_dict[time]\u001b[39m.\u001b[39mkeys()))\u001b[39m-\u001b[39m\u001b[39m1\u001b[39m] \u001b[39m=\u001b[39m \u001b[39mTrue\u001b[39;00m\n\u001b[0;32m---> 25\u001b[0m g\u001b[39m.\u001b[39;49mtrain_mask \u001b[39m=\u001b[39m torch\u001b[39m.\u001b[39mtensor(g\u001b[39m.\u001b[39mtrain_mask)\n\u001b[1;32m     26\u001b[0m \u001b[39m#print(\"train mask shape\", g.train_mask.shape)\u001b[39;00m\n\u001b[1;32m     27\u001b[0m \u001b[39m#print(\"input shape\",g.x.shape)\u001b[39;00m\n\u001b[1;32m     29\u001b[0m g\u001b[39m.\u001b[39mtest_mask \u001b[39m=\u001b[39m np\u001b[39m.\u001b[39marray(([\u001b[39mTrue\u001b[39;00m]\u001b[39m*\u001b[39mnum_sensors))\n",
      "File \u001b[0;32m~/opt/anaconda3/envs/workshop/lib/python3.9/site-packages/torch_geometric/data/data.py:435\u001b[0m, in \u001b[0;36mData.__setattr__\u001b[0;34m(self, key, value)\u001b[0m\n\u001b[1;32m    433\u001b[0m     propobj\u001b[39m.\u001b[39mfset(\u001b[39mself\u001b[39m, value)\n\u001b[1;32m    434\u001b[0m \u001b[39melse\u001b[39;00m:\n\u001b[0;32m--> 435\u001b[0m     \u001b[39msetattr\u001b[39;49m(\u001b[39mself\u001b[39;49m\u001b[39m.\u001b[39;49m_store, key, value)\n",
      "File \u001b[0;32m~/opt/anaconda3/envs/workshop/lib/python3.9/site-packages/torch_geometric/data/storage.py:76\u001b[0m, in \u001b[0;36mBaseStorage.__setattr__\u001b[0;34m(self, key, value)\u001b[0m\n\u001b[1;32m     74\u001b[0m     \u001b[39mself\u001b[39m\u001b[39m.\u001b[39m\u001b[39m__dict__\u001b[39m[key] \u001b[39m=\u001b[39m value\n\u001b[1;32m     75\u001b[0m \u001b[39melse\u001b[39;00m:\n\u001b[0;32m---> 76\u001b[0m     \u001b[39mself\u001b[39;49m[key] \u001b[39m=\u001b[39m value\n",
      "File \u001b[0;32m~/opt/anaconda3/envs/workshop/lib/python3.9/site-packages/torch_geometric/data/storage.py:91\u001b[0m, in \u001b[0;36mBaseStorage.__setitem__\u001b[0;34m(self, key, value)\u001b[0m\n\u001b[1;32m     89\u001b[0m     \u001b[39mdel\u001b[39;00m \u001b[39mself\u001b[39m\u001b[39m.\u001b[39m_mapping[key]\n\u001b[1;32m     90\u001b[0m \u001b[39melif\u001b[39;00m value \u001b[39mis\u001b[39;00m \u001b[39mnot\u001b[39;00m \u001b[39mNone\u001b[39;00m:\n\u001b[0;32m---> 91\u001b[0m     \u001b[39mself\u001b[39;49m\u001b[39m.\u001b[39;49m_mapping[key] \u001b[39m=\u001b[39m value\n",
      "\u001b[0;31mKeyboardInterrupt\u001b[0m: "
     ]
    }
   ],
   "source": [
    "graphs = []\n",
    "for time in data_dict.keys():\n",
    "\n",
    "    sensor_data = np.zeros((num_sensors, 4))\n",
    "    for sensor_id in data_dict[time]:\n",
    "        try:\n",
    "            sensor_data[sensor_id-1] = (np.array(data_dict[time][sensor_id])-MIN_S[2:])/(MAX_S[2:]-MIN_S[2:])\n",
    "        except:\n",
    "            #print(np.array(data_dict[time][sensor_id]))\n",
    "            #print(MIN_S[2:])\n",
    "            continue\n",
    "\n",
    "    g = Data(x=torch.tensor(sensor_data, dtype=torch.float), \n",
    "             edge_index=torch.tensor(edge_list,dtype=torch.long), \n",
    "             y=torch.tensor(sensor_data, dtype=torch.float),\n",
    "             edge_attr=torch.tensor(edge_attr.reshape(-1, 1), dtype=torch.float))\n",
    "             \n",
    "    \n",
    "    #g = Data(x=torch.rand((num_cols, num_cols), dtype=torch.float), edge_index=torch.tensor(edge_list,dtype=torch.long))\n",
    "    \n",
    "    #g.y = torch.tensor(np.array(sensor).reshape(-1, 1), dtype=torch.float)\n",
    "    \n",
    "    g.train_mask = np.array([False]*num_sensors)\n",
    "    g.train_mask[np.array(list(data_dict[time].keys()))-1] = True\n",
    "    g.train_mask = torch.tensor(g.train_mask)\n",
    "    #print(\"train mask shape\", g.train_mask.shape)\n",
    "    #print(\"input shape\",g.x.shape)\n",
    "\n",
    "    g.test_mask = np.array(([True]*num_sensors))\n",
    "    g.test_mask[np.array(list(data_dict[time].keys()))-1] = False\n",
    "    g.test_mask = torch.tensor(g.test_mask)\n"
   ]
  },
  {
   "cell_type": "code",
   "execution_count": 57,
   "metadata": {},
   "outputs": [
    {
     "data": {
      "text/plain": [
       "array({22: [18.6066, 40.8043, 82.8, 2.61639], 44: [17.2444, 44.9121, 32.2, 2.63964], 23: [19.3024, 39.7217, 235.52, 2.65143], 10: [18.734, 42.685, 7.36, 2.63964], 31: [18.4106, 43.5522, 143.52, 2.65143], 26: [18.3714, 43.9844, 121.44, 2.65143], 29: [18.8418, 41.6461, 180.32, 2.65143], 25: [18.4988, 41.6461, 97.52, 2.65143], 19: [18.9104, 40.5004, 136.16, 2.65143], 41: [18.0872, 43.3525, 121.44, 2.63964], 24: [18.7438, 41.0404, 143.52, 2.67532], 7: [19.126, 41.0404, 9.2, 2.65143]},\n",
       "      dtype=object)"
      ]
     },
     "execution_count": 57,
     "metadata": {},
     "output_type": "execute_result"
    }
   ],
   "source": [
    "np.array(data_dict[258480])"
   ]
  },
  {
   "cell_type": "code",
   "execution_count": 45,
   "metadata": {},
   "outputs": [
    {
     "name": "stdout",
     "output_type": "stream",
     "text": [
      "[0. 0. 0. 0.]\n",
      "[1. 2. 3. 4.]\n"
     ]
    }
   ],
   "source": [
    "sensor_data = np.zeros((num_sensors, 4))\n",
    "print(sensor_data[53])\n",
    "sensor_data[53] = np.array([1, 2, 3, 4])\n",
    "print(sensor_data[53])"
   ]
  },
  {
   "cell_type": "code",
   "execution_count": null,
   "metadata": {},
   "outputs": [],
   "source": []
  }
 ],
 "metadata": {
  "kernelspec": {
   "display_name": "workshop",
   "language": "python",
   "name": "python3"
  },
  "language_info": {
   "codemirror_mode": {
    "name": "ipython",
    "version": 3
   },
   "file_extension": ".py",
   "mimetype": "text/x-python",
   "name": "python",
   "nbconvert_exporter": "python",
   "pygments_lexer": "ipython3",
   "version": "3.9.16"
  },
  "orig_nbformat": 4,
  "vscode": {
   "interpreter": {
    "hash": "8c8154bc89338aa61183803fddff66c28cb5c44ca94b859a7dd1cc91d2b6a781"
   }
  }
 },
 "nbformat": 4,
 "nbformat_minor": 2
}
